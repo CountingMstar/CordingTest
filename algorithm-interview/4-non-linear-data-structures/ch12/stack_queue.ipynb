{
 "cells": [
  {
   "cell_type": "code",
   "execution_count": 1,
   "metadata": {},
   "outputs": [
    {
     "name": "stdout",
     "output_type": "stream",
     "text": [
      "[5, 4, 7, 8]\n",
      "[5, 4, 7, 10]\n"
     ]
    }
   ],
   "source": [
    "\"\"\"\n",
    "stack\n",
    "\"\"\"\n",
    "\n",
    "stack = []\n",
    "\n",
    "stack.append(5)\n",
    "stack.append(4)\n",
    "stack.append(7)\n",
    "stack.append(8)\n",
    "print(stack)\n",
    "\n",
    "stack.pop()\n",
    "stack.append(10)\n",
    "print(stack)"
   ]
  },
  {
   "cell_type": "code",
   "execution_count": 3,
   "metadata": {},
   "outputs": [
    {
     "name": "stdout",
     "output_type": "stream",
     "text": [
      "deque([5, 4, 7, 8])\n",
      "deque([4, 7, 8, 10])\n"
     ]
    }
   ],
   "source": [
    "\"\"\"\n",
    "queue\n",
    "\"\"\"\n",
    "\n",
    "from collections import deque\n",
    "\n",
    "queue = deque()\n",
    "\n",
    "queue.append(5)\n",
    "queue.append(4)\n",
    "queue.append(7)\n",
    "queue.append(8)\n",
    "print(queue)\n",
    "\n",
    "queue.popleft()\n",
    "queue.append(10)\n",
    "print(queue)"
   ]
  },
  {
   "cell_type": "code",
   "execution_count": 7,
   "metadata": {},
   "outputs": [
    {
     "name": "stdout",
     "output_type": "stream",
     "text": [
      "Hello 5\n",
      "Hello 4\n",
      "Hello 3\n",
      "Hello 2\n",
      "Hello 1\n",
      "Hello 5\n",
      "Hello 4\n",
      "Hello 3\n",
      "Hello 2\n",
      "Hello 1\n"
     ]
    }
   ],
   "source": [
    "\"\"\"\n",
    "recursive call(재귀함수) : 반복문(for문)과 비슷\n",
    "\n",
    "반복문에 비해\n",
    "- 코드가 간결\n",
    "- 재귀함수가 점화식을 그대로 소스코드로 옮긴것 -> 다이나믹 프로그래밍으로 이러짐\n",
    "\"\"\"\n",
    "\n",
    "def hello(count):\n",
    "    # count가 0이면 함수 종료\n",
    "    if count == 0:\n",
    "        return\n",
    "\n",
    "    print(\"Hello\", count)\n",
    "\n",
    "    count -= 1\n",
    "    hello(count)\n",
    "\n",
    "\n",
    "hello(5)\n",
    "\n",
    "\n",
    "\n",
    "# 반복문\n",
    "def hello_for(count):\n",
    "    \n",
    "    for i in range(count):\n",
    "        c = count - i\n",
    "        print(\"Hello\", c)\n",
    "\n",
    "\n",
    "hello_for(5)"
   ]
  },
  {
   "cell_type": "code",
   "execution_count": null,
   "metadata": {},
   "outputs": [],
   "source": []
  },
  {
   "cell_type": "code",
   "execution_count": 9,
   "metadata": {},
   "outputs": [],
   "source": [
    "\"\"\"\n",
    "https://nareunhagae.tistory.com/17\n",
    "\"\"\"\n",
    "\n",
    "myGraph = {\n",
    "    'A': ['B'],\n",
    "    'B': ['A', 'C', 'H'],\n",
    "    'C': ['B', 'D'],\n",
    "    'D': ['C', 'E', 'G'],\n",
    "    'E': ['D', 'F'],\n",
    "    'F': ['E'],\n",
    "    'G': ['D'],\n",
    "    'H': ['B', 'I', 'J', 'M'],\n",
    "    'I': ['H'],\n",
    "    'J': ['H', 'K'],\n",
    "    'K': ['J', 'L'],\n",
    "    'L': ['K'],\n",
    "    'M': ['H']\n",
    "}"
   ]
  },
  {
   "cell_type": "code",
   "execution_count": 15,
   "metadata": {},
   "outputs": [
    {
     "data": {
      "text/plain": [
       "['A', 'C', 'H']"
      ]
     },
     "execution_count": 15,
     "metadata": {},
     "output_type": "execute_result"
    }
   ],
   "source": [
    "myGraph['B']"
   ]
  },
  {
   "cell_type": "code",
   "execution_count": 17,
   "metadata": {},
   "outputs": [
    {
     "name": "stdout",
     "output_type": "stream",
     "text": [
      "11111111\n",
      "['G']\n",
      "222222222\n",
      "['G']\n",
      "333333\n",
      "G\n",
      "444444444\n",
      "G\n",
      "['D']\n",
      "222222222\n",
      "['D']\n",
      "333333\n",
      "D\n",
      "444444444\n",
      "D\n",
      "['C', 'E', 'G']\n",
      "222222222\n",
      "['G', 'E', 'C']\n",
      "333333\n",
      "C\n",
      "444444444\n",
      "C\n",
      "['B', 'D']\n",
      "222222222\n",
      "['G', 'E', 'D', 'B']\n",
      "333333\n",
      "B\n",
      "444444444\n",
      "B\n",
      "['A', 'C', 'H']\n",
      "222222222\n",
      "['G', 'E', 'D', 'H', 'C', 'A']\n",
      "333333\n",
      "A\n",
      "444444444\n",
      "A\n",
      "['B']\n",
      "222222222\n",
      "['G', 'E', 'D', 'H', 'C', 'B']\n",
      "333333\n",
      "B\n",
      "222222222\n",
      "['G', 'E', 'D', 'H', 'C']\n",
      "333333\n",
      "C\n",
      "222222222\n",
      "['G', 'E', 'D', 'H']\n",
      "333333\n",
      "H\n",
      "444444444\n",
      "H\n",
      "['B', 'I', 'J', 'M']\n",
      "222222222\n",
      "['G', 'E', 'D', 'M', 'J', 'I', 'B']\n",
      "333333\n",
      "B\n",
      "222222222\n",
      "['G', 'E', 'D', 'M', 'J', 'I']\n",
      "333333\n",
      "I\n",
      "444444444\n",
      "I\n",
      "['H']\n",
      "222222222\n",
      "['G', 'E', 'D', 'M', 'J', 'H']\n",
      "333333\n",
      "H\n",
      "222222222\n",
      "['G', 'E', 'D', 'M', 'J']\n",
      "333333\n",
      "J\n",
      "444444444\n",
      "J\n",
      "['H', 'K']\n",
      "222222222\n",
      "['G', 'E', 'D', 'M', 'K', 'H']\n",
      "333333\n",
      "H\n",
      "222222222\n",
      "['G', 'E', 'D', 'M', 'K']\n",
      "333333\n",
      "K\n",
      "444444444\n",
      "K\n",
      "['J', 'L']\n",
      "222222222\n",
      "['G', 'E', 'D', 'M', 'L', 'J']\n",
      "333333\n",
      "J\n",
      "222222222\n",
      "['G', 'E', 'D', 'M', 'L']\n",
      "333333\n",
      "L\n",
      "444444444\n",
      "L\n",
      "['K']\n",
      "222222222\n",
      "['G', 'E', 'D', 'M', 'K']\n",
      "333333\n",
      "K\n",
      "222222222\n",
      "['G', 'E', 'D', 'M']\n",
      "333333\n",
      "M\n",
      "444444444\n",
      "M\n",
      "['H']\n",
      "222222222\n",
      "['G', 'E', 'D', 'H']\n",
      "333333\n",
      "H\n",
      "222222222\n",
      "['G', 'E', 'D']\n",
      "333333\n",
      "D\n",
      "222222222\n",
      "['G', 'E']\n",
      "333333\n",
      "E\n",
      "444444444\n",
      "E\n",
      "['D', 'F']\n",
      "222222222\n",
      "['G', 'F', 'D']\n",
      "333333\n",
      "D\n",
      "222222222\n",
      "['G', 'F']\n",
      "333333\n",
      "F\n",
      "444444444\n",
      "F\n",
      "['E']\n",
      "222222222\n",
      "['G', 'E']\n",
      "333333\n",
      "E\n",
      "222222222\n",
      "['G']\n",
      "333333\n",
      "G\n",
      "dfs -  ['G', 'D', 'C', 'B', 'A', 'H', 'I', 'J', 'K', 'L', 'M', 'E', 'F']\n"
     ]
    },
    {
     "data": {
      "text/plain": [
       "['G', 'D', 'C', 'B', 'A', 'H', 'I', 'J', 'K', 'L', 'M', 'E', 'F']"
      ]
     },
     "execution_count": 17,
     "metadata": {},
     "output_type": "execute_result"
    }
   ],
   "source": [
    "\"\"\"\n",
    "DFS(Depth-First Search)\n",
    "\"\"\"\n",
    "\n",
    "def my_dfs(graph, start_node):\n",
    "    visited = list() # 방문한 노드를 담을 배열\n",
    "    stack = list() # 정점과 인접한 방문 예정인 노드를 담을 배열\n",
    "\n",
    "    stack.append(start_node) # 처음에는 시작 노드 담아주고 시작하기.\n",
    "    print('11111111')\n",
    "    print(stack)\n",
    "\n",
    "    while stack: # 더 이상 방문할 노드가 없을 때까지.\n",
    "        print('222222222')\n",
    "        print(stack)\n",
    "\n",
    "        node = stack.pop() # 방문할 노드를 앞에서 부터 하나싹 꺼내기.\n",
    "        print('333333')\n",
    "        print(node)\n",
    "\n",
    "        if node not in visited: # 방문한 노드가 아니라면\n",
    "            visited.append(node) # visited 배열에 추가\n",
    "            # stack.extend(graph[node]) # 해당 노드의 자식 노드로 추가\n",
    "            stack.extend(reversed(graph[node]))\n",
    "\n",
    "            print('444444444')\n",
    "            print(node)\n",
    "            print(graph[node])\n",
    "\n",
    "    print(\"dfs - \", visited)\n",
    "    return visited\n",
    "    \n",
    "# 함수 실행\n",
    "my_dfs(myGraph, 'G')"
   ]
  },
  {
   "cell_type": "code",
   "execution_count": 11,
   "metadata": {},
   "outputs": [
    {
     "name": "stdout",
     "output_type": "stream",
     "text": [
      "bfs -  ['G', 'D', 'C', 'E', 'B', 'F', 'A', 'H', 'I', 'J', 'M', 'K', 'L']\n"
     ]
    },
    {
     "data": {
      "text/plain": [
       "['G', 'D', 'C', 'E', 'B', 'F', 'A', 'H', 'I', 'J', 'M', 'K', 'L']"
      ]
     },
     "execution_count": 11,
     "metadata": {},
     "output_type": "execute_result"
    }
   ],
   "source": [
    "\"\"\"\n",
    "BFS(Breath-First Search)\n",
    "\"\"\"\n",
    "\n",
    "def my_bfs(graph, start_node):\n",
    "    visited = list() # 방문한 노드를 담을 배열\n",
    "    queue = list() # 방문 예정인 노드를 담을 배열\n",
    "\n",
    "    queue.append(start_node) # 처음에는 시작 노드 담아주고 시작하기.\n",
    "\n",
    "    while queue: # 더 이상 방문할 노드가 없을 때까지.\n",
    "        node = queue.pop(0) # 방문할 노드를 앞에서 부터 하나싹 꺼내기.\n",
    "\n",
    "        if node not in visited: # 방문한 노드가 아니라면\n",
    "            visited.append(node) # visited 배열에 추가\n",
    "            queue.extend(graph[node]) # 해당 노드의 자식 노드로 추가\n",
    "    \n",
    "    print(\"bfs - \", visited)\n",
    "    return visited\n",
    "    \n",
    "# 함수 실행\n",
    "my_bfs(myGraph, 'G')"
   ]
  },
  {
   "cell_type": "code",
   "execution_count": null,
   "metadata": {},
   "outputs": [],
   "source": []
  }
 ],
 "metadata": {
  "kernelspec": {
   "display_name": "Python 3.7.13 ('pytorch')",
   "language": "python",
   "name": "python3"
  },
  "language_info": {
   "codemirror_mode": {
    "name": "ipython",
    "version": 3
   },
   "file_extension": ".py",
   "mimetype": "text/x-python",
   "name": "python",
   "nbconvert_exporter": "python",
   "pygments_lexer": "ipython3",
   "version": "3.7.13"
  },
  "orig_nbformat": 4,
  "vscode": {
   "interpreter": {
    "hash": "8d043f4dea073442cd267471bf30c46004563c9415419567b38c826b8ca735d1"
   }
  }
 },
 "nbformat": 4,
 "nbformat_minor": 2
}
